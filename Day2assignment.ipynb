{
  "nbformat": 4,
  "nbformat_minor": 0,
  "metadata": {
    "colab": {
      "name": "Day2assignment.ipynb",
      "provenance": [],
      "collapsed_sections": [],
      "authorship_tag": "ABX9TyNrHLnowRJD953Hrj9Q0URX",
      "include_colab_link": true
    },
    "kernelspec": {
      "name": "python3",
      "display_name": "Python 3"
    }
  },
  "cells": [
    {
      "cell_type": "markdown",
      "metadata": {
        "id": "view-in-github",
        "colab_type": "text"
      },
      "source": [
        "<a href=\"https://colab.research.google.com/github/ISHJOT15/LetsUpgrade-Python-Essentials/blob/master/Day2assignment.ipynb\" target=\"_parent\"><img src=\"https://colab.research.google.com/assets/colab-badge.svg\" alt=\"Open In Colab\"/></a>"
      ]
    },
    {
      "cell_type": "code",
      "metadata": {
        "id": "UimzLSwYyUos",
        "colab_type": "code",
        "colab": {
          "base_uri": "https://localhost:8080/",
          "height": 170
        },
        "outputId": "c41616db-ab43-44d3-f30a-1407732b6491"
      },
      "source": [
        "#List and its default functions\n",
        "lst=['Ishjot','python',2020,2]\n",
        "print(lst)\n",
        "print(type(lst))                    #type\n",
        "lst.append('sept')                  #append()\n",
        "print(lst)                          #print()\n",
        "lst.insert(2,'coder')               #insert()\n",
        "print(lst)\n",
        "print(len(lst))                     #len()\n",
        "lst.pop(3)                          #pop()\n",
        "print(lst)\n",
        "print(lst[-3])                      #negative indexing\n",
        "print(lst.index('python'))\n",
        "print(list(range(10)))              #range()"
      ],
      "execution_count": null,
      "outputs": [
        {
          "output_type": "stream",
          "text": [
            "['Ishjot', 'python', 2020, 2]\n",
            "<class 'list'>\n",
            "['Ishjot', 'python', 2020, 2, 'sept']\n",
            "['Ishjot', 'python', 'coder', 2020, 2, 'sept']\n",
            "6\n",
            "['Ishjot', 'python', 'coder', 2, 'sept']\n",
            "coder\n",
            "1\n",
            "[0, 1, 2, 3, 4, 5, 6, 7, 8, 9]\n"
          ],
          "name": "stdout"
        }
      ]
    },
    {
      "cell_type": "code",
      "metadata": {
        "id": "5Nz-pGy3AERC",
        "colab_type": "code",
        "colab": {
          "base_uri": "https://localhost:8080/",
          "height": 187
        },
        "outputId": "0a12b55a-39b8-4590-e17d-a2f4bf702d34"
      },
      "source": [
        "#Dictionary and its default functions\n",
        "dit = {'name' : 'Ishjot','lang':'python','age':90}\n",
        "print(type(dit))                              #type()\n",
        "print(dit)                                    #print()\n",
        "dit[4]='dog'\n",
        "print(dit)\n",
        "print(dit.get(\"age\"))                         #get()\n",
        "print(dit[\"lang\"])\n",
        "print(len(dit))                               #len()\n",
        "print(dit.pop(\"lang\"))                        #pop()\n",
        "print(dit)\n",
        "a={0:0,1:1,7:7,2:2,5:5,6:6,8:8,3:3,4:4}\n",
        "print(a)\n",
        "print(sorted(a))                              #sorted()"
      ],
      "execution_count": null,
      "outputs": [
        {
          "output_type": "stream",
          "text": [
            "<class 'dict'>\n",
            "{'name': 'Ishjot', 'lang': 'python', 'age': 90}\n",
            "{'name': 'Ishjot', 'lang': 'python', 'age': 90, 4: 'dog'}\n",
            "90\n",
            "python\n",
            "4\n",
            "python\n",
            "{'name': 'Ishjot', 'age': 90, 4: 'dog'}\n",
            "{0: 0, 1: 1, 7: 7, 2: 2, 5: 5, 6: 6, 8: 8, 3: 3, 4: 4}\n",
            "[0, 1, 2, 3, 4, 5, 6, 7, 8]\n"
          ],
          "name": "stdout"
        }
      ]
    },
    {
      "cell_type": "code",
      "metadata": {
        "id": "HCrYeBCmV168",
        "colab_type": "code",
        "colab": {
          "base_uri": "https://localhost:8080/",
          "height": 102
        },
        "outputId": "80bd99d6-340b-4cab-d34f-94fb3e522cf9"
      },
      "source": [
        "#Sets and its default functions\n",
        "intro={\"Ishjot\",\"singh\",\"40\",\"python\"}\n",
        "intro.add(\"coder\")                    #add()\n",
        "print(intro)                          #print()\n",
        "x=intro.pop()                         #pop()\n",
        "print(x)\n",
        "hobbies={\"chess\",\"paint\"}\n",
        "y=intro.union(hobbies)                #union()\n",
        "print(y)\n",
        "print(len(y))                         #len()\n",
        "z=intro.intersection(y)               #intersection()\n",
        "print(z)"
      ],
      "execution_count": null,
      "outputs": [
        {
          "output_type": "stream",
          "text": [
            "{'40', 'python', 'coder', 'Ishjot', 'singh'}\n",
            "40\n",
            "{'paint', 'chess', 'python', 'coder', 'Ishjot', 'singh'}\n",
            "6\n",
            "{'python', 'coder', 'Ishjot', 'singh'}\n"
          ],
          "name": "stdout"
        }
      ]
    },
    {
      "cell_type": "code",
      "metadata": {
        "id": "djrOPj21atst",
        "colab_type": "code",
        "colab": {
          "base_uri": "https://localhost:8080/",
          "height": 153
        },
        "outputId": "7343d81d-883f-4bc0-cb55-c4e7ed6d5fe5"
      },
      "source": [
        "#Tuple and explore default methods\n",
        "tup=(\"python\",\"is\",\"easy\",2,2020,\"sept\")\n",
        "print(tup)\n",
        "print(tup[3])                     #index\n",
        "print(tup[-1])                    #negative index\n",
        "print(tup[3:5])                   #range of indexes or slicing\n",
        "print(len(tup))                   #len()\n",
        "tup1=(\"a\",\"b\",\"a\",\"a\")\n",
        "x=tup+tup1                        #add two tuples\n",
        "print(x)\n",
        "y=x.index(\"sept\")                 #index()\n",
        "print(y)\n",
        "z=tup1.count(\"a\")                 #count()\n",
        "print(z)\n",
        "upgrade=(\"aa\",\"bb\",\"cc\")\n",
        "del upgrade                       #del() to delete tuple"
      ],
      "execution_count": null,
      "outputs": [
        {
          "output_type": "stream",
          "text": [
            "('python', 'is', 'easy', 2, 2020, 'sept')\n",
            "2\n",
            "sept\n",
            "(2, 2020)\n",
            "6\n",
            "('python', 'is', 'easy', 2, 2020, 'sept', 'a', 'b', 'a', 'a')\n",
            "5\n",
            "3\n"
          ],
          "name": "stdout"
        }
      ]
    },
    {
      "cell_type": "code",
      "metadata": {
        "id": "JOG5hvm_f5fl",
        "colab_type": "code",
        "colab": {
          "base_uri": "https://localhost:8080/",
          "height": 187
        },
        "outputId": "e70ae37f-05bc-4b51-c8d3-566073c68eea"
      },
      "source": [
        "#Strings and explore default methods\n",
        "txt1=\"PYTHON LOVER\"\n",
        "x=txt1.islower()          #islower()\n",
        "y=txt1.isupper()          #isupper()\n",
        "print(x)                  #print()\n",
        "print(y)\n",
        "print(txt1[2])            #indexing\n",
        "print(txt1[-1])\n",
        "print(txt1[3:-2])\n",
        "print(len(txt1))          #len()\n",
        "print(txt1.count(\"O\"))    #count()\n",
        "print(txt1.lower())       #lower()\n",
        "txt2=\"python lover\"\n",
        "print(txt2.upper())       #upper()\n",
        "print(txt2.capitalize())  #capitalize()"
      ],
      "execution_count": 16,
      "outputs": [
        {
          "output_type": "stream",
          "text": [
            "False\n",
            "True\n",
            "T\n",
            "R\n",
            "HON LOV\n",
            "12\n",
            "2\n",
            "python lover\n",
            "PYTHON LOVER\n",
            "Python lover\n"
          ],
          "name": "stdout"
        }
      ]
    }
  ]
}