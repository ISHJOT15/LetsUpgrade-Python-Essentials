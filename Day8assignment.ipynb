{
  "nbformat": 4,
  "nbformat_minor": 0,
  "metadata": {
    "colab": {
      "name": "Day8assignment.ipynb",
      "provenance": [],
      "collapsed_sections": [],
      "authorship_tag": "ABX9TyOgE7FD9cUqhrv9R4RJx5y2",
      "include_colab_link": true
    },
    "kernelspec": {
      "name": "python3",
      "display_name": "Python 3"
    }
  },
  "cells": [
    {
      "cell_type": "markdown",
      "metadata": {
        "id": "view-in-github",
        "colab_type": "text"
      },
      "source": [
        "<a href=\"https://colab.research.google.com/github/ISHJOT15/LetsUpgrade-Python-Essentials/blob/master/Day8assignment.ipynb\" target=\"_parent\"><img src=\"https://colab.research.google.com/assets/colab-badge.svg\" alt=\"Open In Colab\"/></a>"
      ]
    },
    {
      "cell_type": "code",
      "metadata": {
        "id": "hT6K6hEtNlaK",
        "colab_type": "code",
        "colab": {}
      },
      "source": [
        "#Question 1\n",
        "def getInput(calculate_arg_fun):\n",
        "    \n",
        "    def wrap_function():\n",
        "    \n",
        "        a = int(input(\"\\nEnter First Number - \"))\n",
        "        \n",
        "        b = int(input(\"\\nEnter Second Number - \"))\n",
        "        \n",
        "        calculate_arg_fun(a,b)   \n",
        "    \n",
        "    return wrap_function\n"
      ],
      "execution_count": 2,
      "outputs": []
    },
    {
      "cell_type": "code",
      "metadata": {
        "id": "PLu4-V6OhH8I",
        "colab_type": "code",
        "colab": {
          "base_uri": "https://localhost:8080/",
          "height": 85
        },
        "outputId": "7626d5ee-2e39-4140-8169-b0faeeebe8c2"
      },
      "source": [
        "def EvenOdd(start, end):\n",
        "    \n",
        "    print(\"\\nThe Even numbers from\",start,\"to\",end,\"is :\\n\")\n",
        "\n",
        "    for n in range(start, end + 1): \n",
        "      \n",
        "        if n % 2 == 0: \n",
        "            \n",
        "            print(n, end = \" \")\n",
        "EvenOdd(1,50)"
      ],
      "execution_count": 6,
      "outputs": [
        {
          "output_type": "stream",
          "text": [
            "\n",
            "The Even numbers from 1 to 50 is :\n",
            "\n",
            "2 4 6 8 10 12 14 16 18 20 22 24 26 28 30 32 34 36 38 40 42 44 46 48 50 "
          ],
          "name": "stdout"
        }
      ]
    },
    {
      "cell_type": "code",
      "metadata": {
        "id": "XxKc0iF1iVgM",
        "colab_type": "code",
        "colab": {
          "base_uri": "https://localhost:8080/",
          "height": 34
        },
        "outputId": "f948feab-0a27-478b-822d-1afa7541c8e2"
      },
      "source": [
        "#Question 2\n",
        "%%writefile python.txt\n",
        "\n",
        "Hey! I am ishjot\n",
        "I am an Engineer."
      ],
      "execution_count": 7,
      "outputs": [
        {
          "output_type": "stream",
          "text": [
            "Writing python.txt\n"
          ],
          "name": "stdout"
        }
      ]
    },
    {
      "cell_type": "code",
      "metadata": {
        "id": "_UfDSR-mjJ2S",
        "colab_type": "code",
        "colab": {
          "base_uri": "https://localhost:8080/",
          "height": 85
        },
        "outputId": "4363fa5d-2ee2-4058-d8f6-eb4593d74b5a"
      },
      "source": [
        "try:\n",
        "    \n",
        "    file = open(\"python.txt\",\"r\")\n",
        "    \n",
        "    file.write(\"\\nI am a coder.\")\n",
        "    \n",
        "    print(\"\\nRead only mode completed\")\n",
        "    \n",
        "except Exception as error:\n",
        "    \n",
        "    print(\"\\nError\")\n",
        "    \n",
        "    print(\"\\nError message :\",error)"
      ],
      "execution_count": 8,
      "outputs": [
        {
          "output_type": "stream",
          "text": [
            "\n",
            "Error\n",
            "\n",
            "Error message : not writable\n"
          ],
          "name": "stdout"
        }
      ]
    }
  ]
}