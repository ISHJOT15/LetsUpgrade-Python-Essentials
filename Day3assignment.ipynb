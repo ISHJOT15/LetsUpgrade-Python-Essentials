{
  "nbformat": 4,
  "nbformat_minor": 0,
  "metadata": {
    "colab": {
      "name": "Day3assignment.ipynb",
      "provenance": [],
      "collapsed_sections": [],
      "authorship_tag": "ABX9TyPmvik9YM4kCoVwHjTfrSJU",
      "include_colab_link": true
    },
    "kernelspec": {
      "name": "python3",
      "display_name": "Python 3"
    }
  },
  "cells": [
    {
      "cell_type": "markdown",
      "metadata": {
        "id": "view-in-github",
        "colab_type": "text"
      },
      "source": [
        "<a href=\"https://colab.research.google.com/github/ISHJOT15/LetsUpgrade-Python-Essentials/blob/master/Day3assignment.ipynb\" target=\"_parent\"><img src=\"https://colab.research.google.com/assets/colab-badge.svg\" alt=\"Open In Colab\"/></a>"
      ]
    },
    {
      "cell_type": "code",
      "metadata": {
        "id": "BCCdFLZ6pmxz",
        "colab_type": "code",
        "colab": {
          "base_uri": "https://localhost:8080/",
          "height": 51
        },
        "outputId": "4688cad4-0b0d-4f25-ed91-6caff9e15bc2"
      },
      "source": [
        "#Question 1\n",
        "ft = input(\"Input - \")\n",
        "ft=int(ft)\n",
        "if ft<=1000:\n",
        "  print(\"  \"\"Output - Safe to Land\")\n",
        "elif ft>1000 and ft<5000:\n",
        "  print(\"  \"\"Output - Bring down to 1000\")\n",
        "else:\n",
        "  print(\"  \"\"Output - Turn around\")"
      ],
      "execution_count": 5,
      "outputs": [
        {
          "output_type": "stream",
          "text": [
            "Input - 6500\n",
            "  Output - Turn around\n"
          ],
          "name": "stdout"
        }
      ]
    },
    {
      "cell_type": "code",
      "metadata": {
        "id": "hHtmUn6I4YNd",
        "colab_type": "code",
        "colab": {
          "base_uri": "https://localhost:8080/",
          "height": 54
        },
        "outputId": "2fb146ac-dea2-4a74-ee05-3d0f959bded2"
      },
      "source": [
        "for nums in range(1,200):\n",
        "  if nums>1:\n",
        "    for items in range(2,nums):\n",
        "      if (nums % items)==0:\n",
        "        break\n",
        "    else:\n",
        "      print(nums,end = \",\")"
      ],
      "execution_count": 15,
      "outputs": [
        {
          "output_type": "stream",
          "text": [
            "2,3,5,7,11,13,17,19,23,29,31,37,41,43,47,53,59,61,67,71,73,79,83,89,97,101,103,107,109,113,127,131,137,139,149,151,157,163,167,173,179,181,191,193,197,199,"
          ],
          "name": "stdout"
        }
      ]
    }
  ]
}