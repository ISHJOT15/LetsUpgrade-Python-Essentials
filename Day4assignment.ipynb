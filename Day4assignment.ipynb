{
  "nbformat": 4,
  "nbformat_minor": 0,
  "metadata": {
    "colab": {
      "name": "Day4assignment.ipynb",
      "provenance": [],
      "collapsed_sections": [],
      "authorship_tag": "ABX9TyOGFmkcq/mUlg5946jW+izg",
      "include_colab_link": true
    },
    "kernelspec": {
      "name": "python3",
      "display_name": "Python 3"
    }
  },
  "cells": [
    {
      "cell_type": "markdown",
      "metadata": {
        "id": "view-in-github",
        "colab_type": "text"
      },
      "source": [
        "<a href=\"https://colab.research.google.com/github/ISHJOT15/LetsUpgrade-Python-Essentials/blob/master/Day4assignment.ipynb\" target=\"_parent\"><img src=\"https://colab.research.google.com/assets/colab-badge.svg\" alt=\"Open In Colab\"/></a>"
      ]
    },
    {
      "cell_type": "code",
      "metadata": {
        "id": "tkjlZwdlJUs7",
        "colab_type": "code",
        "colab": {
          "base_uri": "https://localhost:8080/",
          "height": 34
        },
        "outputId": "8580fd82-bcc5-4ab4-9d98-aa9cb9c04441"
      },
      "source": [
        "#Question 1\n",
        "lower=1042000\n",
        "upper=702648265\n",
        "for nums in range(lower,upper + 1):\n",
        "  n=len(str(nums)) \n",
        "  sum=0\n",
        "  temp=nums\n",
        "  while temp>0:\n",
        "    digit = temp%10\n",
        "    sum += digit**n\n",
        "    temp //= 10\n",
        "  if nums == sum:\n",
        "    print(\"The first armstrong number is :\",nums)\n",
        "    break"
      ],
      "execution_count": 1,
      "outputs": [
        {
          "output_type": "stream",
          "text": [
            "The first armstrong number is : 1741725\n"
          ],
          "name": "stdout"
        }
      ]
    }
  ]
}