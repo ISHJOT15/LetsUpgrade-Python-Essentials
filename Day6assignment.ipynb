{
  "nbformat": 4,
  "nbformat_minor": 0,
  "metadata": {
    "colab": {
      "name": "Day6assignment.ipynb",
      "provenance": [],
      "collapsed_sections": [],
      "authorship_tag": "ABX9TyOSOjRNIbuQzpdXF/uItZ6Q",
      "include_colab_link": true
    },
    "kernelspec": {
      "name": "python3",
      "display_name": "Python 3"
    }
  },
  "cells": [
    {
      "cell_type": "markdown",
      "metadata": {
        "id": "view-in-github",
        "colab_type": "text"
      },
      "source": [
        "<a href=\"https://colab.research.google.com/github/ISHJOT15/LetsUpgrade-Python-Essentials/blob/master/Day6assignment.ipynb\" target=\"_parent\"><img src=\"https://colab.research.google.com/assets/colab-badge.svg\" alt=\"Open In Colab\"/></a>"
      ]
    },
    {
      "cell_type": "code",
      "metadata": {
        "id": "z-DHqHjX4-IU",
        "colab_type": "code",
        "colab": {}
      },
      "source": [
        "#Question 1\n",
        "class bankaccount:\n",
        "  def __init__(self,ownerName):\n",
        "    self.balance=0\n",
        "    self.ownerName=ownerName\n",
        "    print(\"Hello\",str(self.ownerName))\n",
        "  def deposit(self):\n",
        "    amount = float(input(\"Enter amount to be deposited:Rs\"))\n",
        "    self.balance +=amount\n",
        "    print(\"\\nAmount deposited:\",amount)\n",
        "  def withdraw(self):\n",
        "    amount=float(input(\"Enter amount to be withdrawn:Rs\"))\n",
        "    if self.balance>=amount:\n",
        "      self.balance -= amount\n",
        "      print(\"\\nAmount Withdrawal:Rs\", amount)\n",
        "    else:\n",
        "      print(\"\\nInsufficient balance\")\n",
        "  def display(self):\n",
        "    print(\"\\nAvailable balance is :Rs\",self.balance)"
      ],
      "execution_count": null,
      "outputs": []
    },
    {
      "cell_type": "code",
      "metadata": {
        "id": "1scE8uBVEiXT",
        "colab_type": "code",
        "colab": {
          "base_uri": "https://localhost:8080/",
          "height": 85
        },
        "outputId": "6f19e513-e855-40df-e97b-227e4026da3c"
      },
      "source": [
        "a = bankaccount(\"Ishjot\")\n",
        "a.deposit()"
      ],
      "execution_count": null,
      "outputs": [
        {
          "output_type": "stream",
          "text": [
            "Hello Ishjot\n",
            "Enter amount to be deposited:Rs5000\n",
            "\n",
            "Amount deposited: 5000.0\n"
          ],
          "name": "stdout"
        }
      ]
    },
    {
      "cell_type": "code",
      "metadata": {
        "id": "ly9XK2IyFE-l",
        "colab_type": "code",
        "colab": {
          "base_uri": "https://localhost:8080/",
          "height": 68
        },
        "outputId": "79fe4bf1-a38a-4be9-e96e-f90e470a9f1a"
      },
      "source": [
        "a.withdraw()"
      ],
      "execution_count": null,
      "outputs": [
        {
          "output_type": "stream",
          "text": [
            "Enter amount to be withdrawn:Rs2000\n",
            "\n",
            "Amount Withdrawal:Rs 2000.0\n"
          ],
          "name": "stdout"
        }
      ]
    },
    {
      "cell_type": "code",
      "metadata": {
        "id": "IAFXN1T4FhJZ",
        "colab_type": "code",
        "colab": {
          "base_uri": "https://localhost:8080/",
          "height": 51
        },
        "outputId": "246124cd-74df-4e8b-d76c-ff7dd243c735"
      },
      "source": [
        "a.display()"
      ],
      "execution_count": null,
      "outputs": [
        {
          "output_type": "stream",
          "text": [
            "\n",
            "Available balance is :Rs 3000.0\n"
          ],
          "name": "stdout"
        }
      ]
    },
    {
      "cell_type": "code",
      "metadata": {
        "id": "tq8iDvPr729K",
        "colab_type": "code",
        "colab": {}
      },
      "source": [
        "#Question 2\n",
        "import math\n",
        "class cone:\n",
        "  def __init__(self,radius,height):\n",
        "    self.radius = radius\n",
        "    self.height = height\n",
        "  def volume(self):\n",
        "    volume = ((math.pi)*self.radius*self.radius)*(self.height/3)\n",
        "    print(\"Volume of cone is :\",volume)\n",
        "  def surfacearea(self):\n",
        "    base=((math.pi)*(self.radius * self.radius))\n",
        "    side=(((math.pi)*(self.radius))*(math.sqrt((self.height*self.height)+(self.radius*self.radius))))\n",
        "    area= base+side\n",
        "    print(\"Surface area of cone is :\", area)"
      ],
      "execution_count": null,
      "outputs": []
    },
    {
      "cell_type": "code",
      "metadata": {
        "id": "0TIVK1Rq-2go",
        "colab_type": "code",
        "colab": {
          "base_uri": "https://localhost:8080/",
          "height": 51
        },
        "outputId": "9addd0bc-5b60-41bb-b67b-900b1063f81f"
      },
      "source": [
        "x = cone(8,12)\n",
        "x.volume()\n",
        "x.surfacearea()"
      ],
      "execution_count": null,
      "outputs": [
        {
          "output_type": "stream",
          "text": [
            "Volume of cone is : 804.247719318987\n",
            "Surface area of cone is : 563.531478602194\n"
          ],
          "name": "stdout"
        }
      ]
    }
  ]
}